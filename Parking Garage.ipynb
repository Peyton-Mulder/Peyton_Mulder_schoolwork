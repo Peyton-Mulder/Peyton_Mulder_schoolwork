{
 "cells": [
  {
   "cell_type": "markdown",
   "metadata": {},
   "source": [
    "# Parking Garage Project\n",
    "\n",
    "Your assignment for today is to create a parking garage class to get more familiar with Object Oriented Programming(OOP). \n",
    "\n",
    "Your parking gargage class should have the following methods:\n",
    "- takeTicket\n",
    "   - This should decrease the amount of tickets available by 1\n",
    "   - This should decrease the amount of parkingSpaces available by 1\n",
    "- payForParking\n",
    "   - Display an input that waits for an amount from the user and store it in a variable\n",
    "   - If the payment variable is not empty then ->  display a message to the user that their ticket has been paid and they have 15mins to leave\n",
    "   - This should update the \"currentTicket\" dictionary key \"paid\" to True\n",
    "-leaveGarage\n",
    "   - If the ticket has been paid, display a message of \"Thank You, have a nice day\"\n",
    "   - If the ticket has not been paid, display an input prompt for payment\n",
    "      - Once paid, display message \"Thank you, have a nice day!\"\n",
    "   - Update parkingSpaces list to increase by 1\n",
    "   - Update tickets list to increase by 1\n",
    "\n",
    "You will need a few attributes as well:\n",
    "- tickets -> list\n",
    "- parkingSpaces -> list\n",
    "- currentTicket -> dictionary"
   ]
  },
  {
   "cell_type": "code",
   "execution_count": null,
   "metadata": {},
   "outputs": [],
   "source": [
    "parking_garage=['space 1','space 2','space 3','space 4','space 5','space 6','space 7','space 8','space 9','space 10'\n",
    "                'space 11','space 12','space 13','space 14','space 15','space 16','space 17','space 18','space 19','space 20']\n",
    "filled_spaces=[]\n",
    "currentTickets=['space 1','space 2','space 3','space 4','space 5','space 6','space 7','space 8','space 9','space 10'\n",
    "                'space 11','space 12','space 13','space 14','space 15','space 16','space 17','space 18','space 19','space 20']\n",
    "usedTickets=[]\n",
    "unpaidTickets=[]\n",
    "paidtickets=[]\n",
    "payments_received=[]\n",
    "condition='true'\n",
    "help=(\"Available actions are: help, park, pay, take ticket, space count, ledger, and quit.\")\n",
    "thanks=(\"Thank you for parking at Super Python Express parking garage!\")\n",
    "print(\"Welcome to Super Python Express parking garage!\")\n",
    "if condition == \"true\":\n",
    "    while True:\n",
    "        command=input(\"What would you like to do? \\nFor a list of available actions please type 'help' \\n>\")\n",
    "        if command == \"park\":\n",
    "            filled_spaces.append(parking_garage.pop())\n",
    "            usedTickets.append(currentTickets.pop())\n",
    "            print(\"\\nPlease take your ticket with you.\")\n",
    "        elif command ==\"help\":\n",
    "            print(help)\n",
    "        elif command =='space count':\n",
    "            print(\"\\nSpaces open:\",parking_garage)\n",
    "            print(\"Spaces filled:\",filled_spaces)\n",
    "        elif command =='pay':\n",
    "            check=input(\"\\nPlease enter the amount you owe for your ticket, the rate is $5 per hour.\\n>\")\n",
    "            payments_received.append(check)\n",
    "        elif command == 'take ticket':    \n",
    "            print(\"\\nThank you for your payment of $\",check)\n",
    "            parking_garage.append(filled_spaces.pop())\n",
    "            currentTickets.append(usedTickets.pop())\n",
    "            print(thanks)\n",
    "        elif command =='ledger':\n",
    "            print(payments_received)\n",
    "        elif command == 'quit':\n",
    "            print(\"\\nThank you for using my parking simulator, have a great day!\\n\")\n",
    "            break"
   ]
  }
 ],
 "metadata": {
  "kernelspec": {
   "display_name": "Python 3",
   "language": "python",
   "name": "python3"
  },
  "language_info": {
   "codemirror_mode": {
    "name": "ipython",
    "version": 3
   },
   "file_extension": ".py",
   "mimetype": "text/x-python",
   "name": "python",
   "nbconvert_exporter": "python",
   "pygments_lexer": "ipython3",
   "version": "3.7.3"
  }
 },
 "nbformat": 4,
 "nbformat_minor": 2
}
